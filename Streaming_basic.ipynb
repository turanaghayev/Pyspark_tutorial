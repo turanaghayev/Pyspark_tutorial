{
 "cells": [
  {
   "cell_type": "code",
   "execution_count": 1,
   "id": "481d1ad0",
   "metadata": {},
   "outputs": [],
   "source": [
    "import findspark\n",
    "findspark.init()\n",
    "from pyspark.streaming import *\n",
    "from pyspark import SparkConf, SparkContext"
   ]
  },
  {
   "cell_type": "code",
   "execution_count": 2,
   "id": "85d4acaa",
   "metadata": {},
   "outputs": [],
   "source": [
    "sc = SparkContext(\"local[4]\", \"StreamingQuickExample\")"
   ]
  },
  {
   "cell_type": "code",
   "execution_count": 3,
   "id": "902ea650",
   "metadata": {},
   "outputs": [],
   "source": [
    "ssc = StreamingContext(sc, batchDuration=10)"
   ]
  },
  {
   "cell_type": "code",
   "execution_count": 4,
   "id": "631e95e7",
   "metadata": {},
   "outputs": [],
   "source": [
    "lines = ssc.textFileStream(\"C:\\\\Users\\\\Aghayev\\\\Desktop\\\\Atoti\\\\spark\")"
   ]
  },
  {
   "cell_type": "code",
   "execution_count": 11,
   "id": "f89f5fd3",
   "metadata": {},
   "outputs": [],
   "source": [
    "words = lines.flatMap(lambda x: x.split(\" \"))"
   ]
  },
  {
   "cell_type": "code",
   "execution_count": null,
   "id": "df87c29e",
   "metadata": {},
   "outputs": [],
   "source": []
  },
  {
   "cell_type": "code",
   "execution_count": null,
   "id": "b7308276",
   "metadata": {},
   "outputs": [],
   "source": []
  }
 ],
 "metadata": {
  "kernelspec": {
   "display_name": "Python 3 (ipykernel)",
   "language": "python",
   "name": "python3"
  },
  "language_info": {
   "codemirror_mode": {
    "name": "ipython",
    "version": 3
   },
   "file_extension": ".py",
   "mimetype": "text/x-python",
   "name": "python",
   "nbconvert_exporter": "python",
   "pygments_lexer": "ipython3",
   "version": "3.9.7"
  }
 },
 "nbformat": 4,
 "nbformat_minor": 5
}
