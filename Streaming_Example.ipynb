{
 "cells": [
  {
   "cell_type": "code",
   "execution_count": 1,
   "id": "e5b92044",
   "metadata": {},
   "outputs": [],
   "source": [
    "import findspark\n",
    "findspark.init()\n",
    "from pyspark.sql import SparkSession\n",
    "from pyspark.sql.types import *\n",
    "import pyspark.sql.functions as f"
   ]
  },
  {
   "cell_type": "code",
   "execution_count": 2,
   "id": "714336c1",
   "metadata": {},
   "outputs": [],
   "source": [
    "spark = SparkSession.builder \\\n",
    ".master(\"local[4]\") \\\n",
    ".appName(\"ReadFromCSV\") \\\n",
    ".config(\"spark.driver.memory\",\"2g\") \\\n",
    ".config(\"spark.executor.memory\",\"4g\") \\\n",
    ".getOrCreate()"
   ]
  },
  {
   "cell_type": "code",
   "execution_count": 3,
   "id": "c0adf8e4",
   "metadata": {},
   "outputs": [],
   "source": [
    "schema_simple_data = StructType(\n",
    "[\n",
    "    StructField(\"sirano\", IntegerType(), True),\n",
    "    StructField(\"isim\", StringType(), True),\n",
    "    StructField(\"yas\", IntegerType(), True),\n",
    "    StructField(\"meslek\", StringType(), True),\n",
    "    StructField(\"sehir\", StringType(), True),\n",
    "    StructField(\"aylik_gelir\", DoubleType(), True)\n",
    "]\n",
    ")"
   ]
  },
  {
   "cell_type": "code",
   "execution_count": 4,
   "id": "1642caf5",
   "metadata": {},
   "outputs": [],
   "source": [
    "df = spark.readStream \\\n",
    ".format(\"csv\") \\\n",
    ".option(\"header\",True) \\\n",
    ".option(\"sep\", \",\") \\\n",
    ".schema(schema_simple_data) \\\n",
    ".load(\"C:\\\\Users\\\\Aghayev\\\\Desktop\\\\Atoti\\\\spark\")"
   ]
  },
  {
   "cell_type": "code",
   "execution_count": 5,
   "id": "22888c5b",
   "metadata": {},
   "outputs": [],
   "source": [
    "meslek_grp_ort_gelir = df.groupBy(\"meslek\") \\\n",
    ".agg(f.avg(\"aylik_gelir\").alias(\"ort_gelir\")) \\\n",
    ".sort(f.desc(\"ort_gelir\"))"
   ]
  },
  {
   "cell_type": "code",
   "execution_count": 6,
   "id": "12d0cc4e",
   "metadata": {},
   "outputs": [],
   "source": [
    "query = meslek_grp_ort_gelir.writeStream \\\n",
    ".outputMode(\"complete\") \\\n",
    ".format(\"console\") \\\n",
    ".start()"
   ]
  },
  {
   "cell_type": "code",
   "execution_count": null,
   "id": "107f5f13",
   "metadata": {},
   "outputs": [],
   "source": [
    "query.awaitTermination()"
   ]
  },
  {
   "cell_type": "code",
   "execution_count": null,
   "id": "4e29ac42",
   "metadata": {},
   "outputs": [],
   "source": [
    "quer"
   ]
  }
 ],
 "metadata": {
  "kernelspec": {
   "display_name": "Python 3 (ipykernel)",
   "language": "python",
   "name": "python3"
  },
  "language_info": {
   "codemirror_mode": {
    "name": "ipython",
    "version": 3
   },
   "file_extension": ".py",
   "mimetype": "text/x-python",
   "name": "python",
   "nbconvert_exporter": "python",
   "pygments_lexer": "ipython3",
   "version": "3.9.7"
  }
 },
 "nbformat": 4,
 "nbformat_minor": 5
}
