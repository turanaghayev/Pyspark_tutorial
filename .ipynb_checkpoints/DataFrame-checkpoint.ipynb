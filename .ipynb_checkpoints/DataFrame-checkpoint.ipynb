{
 "cells": [
  {
   "cell_type": "code",
   "execution_count": 1,
   "id": "6b99eb4a",
   "metadata": {},
   "outputs": [],
   "source": [
    "import pandas as pd\n",
    "import findspark\n",
    "findspark.init()\n",
    "from pyspark.sql import SparkSession"
   ]
  },
  {
   "cell_type": "code",
   "execution_count": 2,
   "id": "bf5cdf08",
   "metadata": {},
   "outputs": [],
   "source": [
    "spark = SparkSession.builder. \\\n",
    "master(\"local[4]\"). \\\n",
    "appName(\"Dataframe-Giriş\"). \\\n",
    "config(\"spark.driver.memory\",\"2g\"). \\\n",
    "config(\"spark.executor.memory\",\"4g\"). \\\n",
    "getOrCreate()"
   ]
  },
  {
   "cell_type": "code",
   "execution_count": 3,
   "id": "4d33e3d2",
   "metadata": {},
   "outputs": [],
   "source": [
    "sc = spark.sparkContext"
   ]
  },
  {
   "cell_type": "markdown",
   "id": "6227a145",
   "metadata": {},
   "source": [
    "# Listeden DF"
   ]
  },
  {
   "cell_type": "code",
   "execution_count": 5,
   "id": "a5367a57",
   "metadata": {},
   "outputs": [],
   "source": [
    "from pyspark.sql import Row\n",
    "list_rdd = sc.parallelize([1,2,3,4,5,6,5,4]). \\\n",
    "map(lambda x: Row(x))"
   ]
  },
  {
   "cell_type": "code",
   "execution_count": 6,
   "id": "4e99df97",
   "metadata": {},
   "outputs": [],
   "source": [
    "df_from_list = list_rdd.toDF([\"Value\"])"
   ]
  },
  {
   "cell_type": "code",
   "execution_count": 7,
   "id": "1f176d36",
   "metadata": {},
   "outputs": [
    {
     "name": "stdout",
     "output_type": "stream",
     "text": [
      "+-----+\n",
      "|Value|\n",
      "+-----+\n",
      "|    1|\n",
      "|    2|\n",
      "|    3|\n",
      "|    4|\n",
      "|    5|\n",
      "|    6|\n",
      "|    5|\n",
      "|    4|\n",
      "+-----+\n",
      "\n"
     ]
    }
   ],
   "source": [
    "df_from_list.show()"
   ]
  },
  {
   "cell_type": "code",
   "execution_count": 8,
   "id": "e01295db",
   "metadata": {},
   "outputs": [],
   "source": [
    "# Range\n",
    "df_from_range = sc.parallelize(range(10,100,5)). \\\n",
    "map(lambda x: (x,)). \\\n",
    "toDF([\"range\"])"
   ]
  },
  {
   "cell_type": "code",
   "execution_count": 9,
   "id": "3f6c7b13",
   "metadata": {},
   "outputs": [
    {
     "name": "stdout",
     "output_type": "stream",
     "text": [
      "+-----+\n",
      "|range|\n",
      "+-----+\n",
      "|   10|\n",
      "|   15|\n",
      "|   20|\n",
      "+-----+\n",
      "only showing top 3 rows\n",
      "\n"
     ]
    }
   ],
   "source": [
    "df_from_range.show(3)"
   ]
  },
  {
   "cell_type": "markdown",
   "id": "9460d5a5",
   "metadata": {},
   "source": [
    "# Dosyadan DF"
   ]
  },
  {
   "cell_type": "code",
   "execution_count": 10,
   "id": "ec4e1b4a",
   "metadata": {},
   "outputs": [],
   "source": [
    "df_from_file = spark.read.csv(\"OnlineRetail.csv\")"
   ]
  },
  {
   "cell_type": "code",
   "execution_count": 12,
   "id": "af422083",
   "metadata": {},
   "outputs": [
    {
     "name": "stdout",
     "output_type": "stream",
     "text": [
      "+--------------------+\n",
      "|                 _c0|\n",
      "+--------------------+\n",
      "|InvoiceNo;StockCo...|\n",
      "|536365;85123A;WHI...|\n",
      "|536365;71053;WHIT...|\n",
      "|536365;84406B;CRE...|\n",
      "|536365;84029G;KNI...|\n",
      "|536365;84029E;RED...|\n",
      "|536365;22752;SET ...|\n",
      "|536365;21730;GLAS...|\n",
      "|536366;22633;HAND...|\n",
      "|536366;22632;HAND...|\n",
      "|536367;84879;ASSO...|\n",
      "|536367;22745;POPP...|\n",
      "|536367;22748;POPP...|\n",
      "|536367;22749;FELT...|\n",
      "|536367;22310;IVOR...|\n",
      "|536367;84969;BOX ...|\n",
      "|536367;22623;BOX ...|\n",
      "|536367;22622;BOX ...|\n",
      "|536367;21754;HOME...|\n",
      "|536367;21755;LOVE...|\n",
      "+--------------------+\n",
      "only showing top 20 rows\n",
      "\n"
     ]
    }
   ],
   "source": [
    "df_from_file.show()"
   ]
  },
  {
   "cell_type": "code",
   "execution_count": 13,
   "id": "0c614e54",
   "metadata": {},
   "outputs": [
    {
     "name": "stdout",
     "output_type": "stream",
     "text": [
      "+---------+---------+--------------------+--------+---------------+---------+----------+--------------+\n",
      "|InvoiceNo|StockCode|         Description|Quantity|    InvoiceDate|UnitPrice|CustomerID|       Country|\n",
      "+---------+---------+--------------------+--------+---------------+---------+----------+--------------+\n",
      "|   536365|   85123A|WHITE HANGING HEA...|       6|1.12.2010 08:26|     2,55|     17850|United Kingdom|\n",
      "|   536365|    71053| WHITE METAL LANTERN|       6|1.12.2010 08:26|     3,39|     17850|United Kingdom|\n",
      "|   536365|   84406B|CREAM CUPID HEART...|       8|1.12.2010 08:26|     2,75|     17850|United Kingdom|\n",
      "+---------+---------+--------------------+--------+---------------+---------+----------+--------------+\n",
      "only showing top 3 rows\n",
      "\n"
     ]
    }
   ],
   "source": [
    "df_from_file = spark.read \\\n",
    ".option(\"sep\",\";\") \\\n",
    ".option(\"header\",\"True\") \\\n",
    ".option(\"inferSchema\",\"True\") \\\n",
    ".csv(\"OnlineRetail.csv\")\n",
    "\n",
    "df_from_file.show(3)"
   ]
  },
  {
   "cell_type": "code",
   "execution_count": 14,
   "id": "9e773da5",
   "metadata": {},
   "outputs": [
    {
     "name": "stdout",
     "output_type": "stream",
     "text": [
      "root\n",
      " |-- InvoiceNo: string (nullable = true)\n",
      " |-- StockCode: string (nullable = true)\n",
      " |-- Description: string (nullable = true)\n",
      " |-- Quantity: integer (nullable = true)\n",
      " |-- InvoiceDate: string (nullable = true)\n",
      " |-- UnitPrice: string (nullable = true)\n",
      " |-- CustomerID: integer (nullable = true)\n",
      " |-- Country: string (nullable = true)\n",
      "\n"
     ]
    }
   ],
   "source": [
    "df_from_file.printSchema()"
   ]
  },
  {
   "cell_type": "code",
   "execution_count": 15,
   "id": "c30b889b",
   "metadata": {},
   "outputs": [],
   "source": [
    "df_pd = df_from_file.limit(5).toPandas()"
   ]
  },
  {
   "cell_type": "code",
   "execution_count": 16,
   "id": "df499c97",
   "metadata": {},
   "outputs": [
    {
     "data": {
      "text/plain": [
       "pandas.core.frame.DataFrame"
      ]
     },
     "execution_count": 16,
     "metadata": {},
     "output_type": "execute_result"
    }
   ],
   "source": [
    "type(df_pd)"
   ]
  },
  {
   "cell_type": "code",
   "execution_count": 17,
   "id": "b7015186",
   "metadata": {},
   "outputs": [
    {
     "data": {
      "text/html": [
       "<div>\n",
       "<style scoped>\n",
       "    .dataframe tbody tr th:only-of-type {\n",
       "        vertical-align: middle;\n",
       "    }\n",
       "\n",
       "    .dataframe tbody tr th {\n",
       "        vertical-align: top;\n",
       "    }\n",
       "\n",
       "    .dataframe thead th {\n",
       "        text-align: right;\n",
       "    }\n",
       "</style>\n",
       "<table border=\"1\" class=\"dataframe\">\n",
       "  <thead>\n",
       "    <tr style=\"text-align: right;\">\n",
       "      <th></th>\n",
       "      <th>InvoiceNo</th>\n",
       "      <th>StockCode</th>\n",
       "      <th>Description</th>\n",
       "      <th>Quantity</th>\n",
       "      <th>InvoiceDate</th>\n",
       "      <th>UnitPrice</th>\n",
       "      <th>CustomerID</th>\n",
       "      <th>Country</th>\n",
       "    </tr>\n",
       "  </thead>\n",
       "  <tbody>\n",
       "    <tr>\n",
       "      <th>0</th>\n",
       "      <td>536365</td>\n",
       "      <td>85123A</td>\n",
       "      <td>WHITE HANGING HEART T-LIGHT HOLDER</td>\n",
       "      <td>6</td>\n",
       "      <td>1.12.2010 08:26</td>\n",
       "      <td>2,55</td>\n",
       "      <td>17850</td>\n",
       "      <td>United Kingdom</td>\n",
       "    </tr>\n",
       "    <tr>\n",
       "      <th>1</th>\n",
       "      <td>536365</td>\n",
       "      <td>71053</td>\n",
       "      <td>WHITE METAL LANTERN</td>\n",
       "      <td>6</td>\n",
       "      <td>1.12.2010 08:26</td>\n",
       "      <td>3,39</td>\n",
       "      <td>17850</td>\n",
       "      <td>United Kingdom</td>\n",
       "    </tr>\n",
       "    <tr>\n",
       "      <th>2</th>\n",
       "      <td>536365</td>\n",
       "      <td>84406B</td>\n",
       "      <td>CREAM CUPID HEARTS COAT HANGER</td>\n",
       "      <td>8</td>\n",
       "      <td>1.12.2010 08:26</td>\n",
       "      <td>2,75</td>\n",
       "      <td>17850</td>\n",
       "      <td>United Kingdom</td>\n",
       "    </tr>\n",
       "    <tr>\n",
       "      <th>3</th>\n",
       "      <td>536365</td>\n",
       "      <td>84029G</td>\n",
       "      <td>KNITTED UNION FLAG HOT WATER BOTTLE</td>\n",
       "      <td>6</td>\n",
       "      <td>1.12.2010 08:26</td>\n",
       "      <td>3,39</td>\n",
       "      <td>17850</td>\n",
       "      <td>United Kingdom</td>\n",
       "    </tr>\n",
       "    <tr>\n",
       "      <th>4</th>\n",
       "      <td>536365</td>\n",
       "      <td>84029E</td>\n",
       "      <td>RED WOOLLY HOTTIE WHITE HEART.</td>\n",
       "      <td>6</td>\n",
       "      <td>1.12.2010 08:26</td>\n",
       "      <td>3,39</td>\n",
       "      <td>17850</td>\n",
       "      <td>United Kingdom</td>\n",
       "    </tr>\n",
       "  </tbody>\n",
       "</table>\n",
       "</div>"
      ],
      "text/plain": [
       "  InvoiceNo StockCode                          Description  Quantity  \\\n",
       "0    536365    85123A   WHITE HANGING HEART T-LIGHT HOLDER         6   \n",
       "1    536365     71053                  WHITE METAL LANTERN         6   \n",
       "2    536365    84406B       CREAM CUPID HEARTS COAT HANGER         8   \n",
       "3    536365    84029G  KNITTED UNION FLAG HOT WATER BOTTLE         6   \n",
       "4    536365    84029E       RED WOOLLY HOTTIE WHITE HEART.         6   \n",
       "\n",
       "       InvoiceDate UnitPrice  CustomerID         Country  \n",
       "0  1.12.2010 08:26      2,55       17850  United Kingdom  \n",
       "1  1.12.2010 08:26      3,39       17850  United Kingdom  \n",
       "2  1.12.2010 08:26      2,75       17850  United Kingdom  \n",
       "3  1.12.2010 08:26      3,39       17850  United Kingdom  \n",
       "4  1.12.2010 08:26      3,39       17850  United Kingdom  "
      ]
     },
     "execution_count": 17,
     "metadata": {},
     "output_type": "execute_result"
    }
   ],
   "source": [
    "df_pd.head()"
   ]
  },
  {
   "cell_type": "markdown",
   "id": "2ef4ab14",
   "metadata": {},
   "source": [
    "# READ CSV"
   ]
  },
  {
   "cell_type": "code",
   "execution_count": 20,
   "id": "42b0936c",
   "metadata": {},
   "outputs": [],
   "source": [
    "retailDF = spark.read \\\n",
    ".option(\"header\",\"True\") \\\n",
    ".option(\"inferSchema\",\"True\") \\\n",
    ".option(\"sep\",\";\") \\\n",
    ".csv(\"OnlineRetail.csv\")"
   ]
  },
  {
   "cell_type": "code",
   "execution_count": 21,
   "id": "646184de",
   "metadata": {},
   "outputs": [
    {
     "data": {
      "text/html": [
       "<div>\n",
       "<style scoped>\n",
       "    .dataframe tbody tr th:only-of-type {\n",
       "        vertical-align: middle;\n",
       "    }\n",
       "\n",
       "    .dataframe tbody tr th {\n",
       "        vertical-align: top;\n",
       "    }\n",
       "\n",
       "    .dataframe thead th {\n",
       "        text-align: right;\n",
       "    }\n",
       "</style>\n",
       "<table border=\"1\" class=\"dataframe\">\n",
       "  <thead>\n",
       "    <tr style=\"text-align: right;\">\n",
       "      <th></th>\n",
       "      <th>InvoiceNo</th>\n",
       "      <th>StockCode</th>\n",
       "      <th>Description</th>\n",
       "      <th>Quantity</th>\n",
       "      <th>InvoiceDate</th>\n",
       "      <th>UnitPrice</th>\n",
       "      <th>CustomerID</th>\n",
       "      <th>Country</th>\n",
       "    </tr>\n",
       "  </thead>\n",
       "  <tbody>\n",
       "    <tr>\n",
       "      <th>0</th>\n",
       "      <td>536365</td>\n",
       "      <td>85123A</td>\n",
       "      <td>WHITE HANGING HEART T-LIGHT HOLDER</td>\n",
       "      <td>6</td>\n",
       "      <td>1.12.2010 08:26</td>\n",
       "      <td>2,55</td>\n",
       "      <td>17850</td>\n",
       "      <td>United Kingdom</td>\n",
       "    </tr>\n",
       "    <tr>\n",
       "      <th>1</th>\n",
       "      <td>536365</td>\n",
       "      <td>71053</td>\n",
       "      <td>WHITE METAL LANTERN</td>\n",
       "      <td>6</td>\n",
       "      <td>1.12.2010 08:26</td>\n",
       "      <td>3,39</td>\n",
       "      <td>17850</td>\n",
       "      <td>United Kingdom</td>\n",
       "    </tr>\n",
       "    <tr>\n",
       "      <th>2</th>\n",
       "      <td>536365</td>\n",
       "      <td>84406B</td>\n",
       "      <td>CREAM CUPID HEARTS COAT HANGER</td>\n",
       "      <td>8</td>\n",
       "      <td>1.12.2010 08:26</td>\n",
       "      <td>2,75</td>\n",
       "      <td>17850</td>\n",
       "      <td>United Kingdom</td>\n",
       "    </tr>\n",
       "    <tr>\n",
       "      <th>3</th>\n",
       "      <td>536365</td>\n",
       "      <td>84029G</td>\n",
       "      <td>KNITTED UNION FLAG HOT WATER BOTTLE</td>\n",
       "      <td>6</td>\n",
       "      <td>1.12.2010 08:26</td>\n",
       "      <td>3,39</td>\n",
       "      <td>17850</td>\n",
       "      <td>United Kingdom</td>\n",
       "    </tr>\n",
       "    <tr>\n",
       "      <th>4</th>\n",
       "      <td>536365</td>\n",
       "      <td>84029E</td>\n",
       "      <td>RED WOOLLY HOTTIE WHITE HEART.</td>\n",
       "      <td>6</td>\n",
       "      <td>1.12.2010 08:26</td>\n",
       "      <td>3,39</td>\n",
       "      <td>17850</td>\n",
       "      <td>United Kingdom</td>\n",
       "    </tr>\n",
       "  </tbody>\n",
       "</table>\n",
       "</div>"
      ],
      "text/plain": [
       "  InvoiceNo StockCode                          Description  Quantity  \\\n",
       "0    536365    85123A   WHITE HANGING HEART T-LIGHT HOLDER         6   \n",
       "1    536365     71053                  WHITE METAL LANTERN         6   \n",
       "2    536365    84406B       CREAM CUPID HEARTS COAT HANGER         8   \n",
       "3    536365    84029G  KNITTED UNION FLAG HOT WATER BOTTLE         6   \n",
       "4    536365    84029E       RED WOOLLY HOTTIE WHITE HEART.         6   \n",
       "\n",
       "       InvoiceDate UnitPrice  CustomerID         Country  \n",
       "0  1.12.2010 08:26      2,55       17850  United Kingdom  \n",
       "1  1.12.2010 08:26      3,39       17850  United Kingdom  \n",
       "2  1.12.2010 08:26      2,75       17850  United Kingdom  \n",
       "3  1.12.2010 08:26      3,39       17850  United Kingdom  \n",
       "4  1.12.2010 08:26      3,39       17850  United Kingdom  "
      ]
     },
     "execution_count": 21,
     "metadata": {},
     "output_type": "execute_result"
    }
   ],
   "source": [
    "retailDF.limit(5).toPandas().head()"
   ]
  },
  {
   "cell_type": "code",
   "execution_count": 27,
   "id": "83062426",
   "metadata": {},
   "outputs": [
    {
     "data": {
      "text/plain": [
       "DataFrame[InvoiceNo: string, StockCode: string, Description: string, Quantity: int, InvoiceDate: string, UnitPrice: string, CustomerID: int, Country: string]"
      ]
     },
     "execution_count": 27,
     "metadata": {},
     "output_type": "execute_result"
    }
   ],
   "source": [
    "retailDF.cache()"
   ]
  },
  {
   "cell_type": "code",
   "execution_count": 28,
   "id": "81295c7e",
   "metadata": {},
   "outputs": [],
   "source": [
    "retailDF.createOrReplaceTempView(\"tablo\")"
   ]
  },
  {
   "cell_type": "code",
   "execution_count": 29,
   "id": "72a0c1ff",
   "metadata": {},
   "outputs": [
    {
     "name": "stdout",
     "output_type": "stream",
     "text": [
      "+---------------+---------+\n",
      "|        Country|UnitPrice|\n",
      "+---------------+---------+\n",
      "| United Kingdom|  94911.0|\n",
      "|           EIRE|   9423.0|\n",
      "|        Germany|   7930.0|\n",
      "|         France|   6288.0|\n",
      "|          Spain|   2927.0|\n",
      "|        Finland|   1578.0|\n",
      "|        Belgium|   1503.0|\n",
      "|         Norway|   1451.0|\n",
      "|    Switzerland|   1267.0|\n",
      "|         Sweden|    921.0|\n",
      "|         Cyprus|    890.0|\n",
      "|    Netherlands|    874.0|\n",
      "|          Italy|    823.0|\n",
      "|       Portugal|    817.0|\n",
      "|Channel Islands|    736.0|\n",
      "|        Austria|    548.0|\n",
      "|      Australia|    350.0|\n",
      "|        Denmark|    246.0|\n",
      "|          Malta|    210.0|\n",
      "|         Poland|    200.0|\n",
      "+---------------+---------+\n",
      "only showing top 20 rows\n",
      "\n"
     ]
    }
   ],
   "source": [
    "spark.sql(\"\"\"\n",
    "SELECT Country, SUM(UnitPrice) UnitPrice \n",
    "FROM tablo\n",
    "GROUP BY Country\n",
    "ORDER BY UnitPrice DESC\n",
    "\"\"\").show(20)"
   ]
  },
  {
   "cell_type": "markdown",
   "id": "e04a83d4",
   "metadata": {},
   "source": [
    "# Dataframe String Functions\n"
   ]
  },
  {
   "cell_type": "code",
   "execution_count": 30,
   "id": "4d935764",
   "metadata": {},
   "outputs": [],
   "source": [
    "df = spark.read \\\n",
    ".option(\"header\",\"True\") \\\n",
    ".option(\"inferSchema\",\"True\") \\\n",
    ".option(\"sep\",\",\") \\\n",
    ".csv(\"simple_dirty_data.csv\")"
   ]
  },
  {
   "cell_type": "code",
   "execution_count": 31,
   "id": "275bdaea",
   "metadata": {},
   "outputs": [
    {
     "name": "stdout",
     "output_type": "stream",
     "text": [
      "+------+---------+---+--------+-----------+-----------+-----------+--------------------+\n",
      "|sirano|     isim|yas|cinsiyet|     meslek|      sehir|aylik_gelir|            mal_mulk|\n",
      "+------+---------+---+--------+-----------+-----------+-----------+--------------------+\n",
      "|     1|    Cemal| 35|       E|       Isci|     Ankara|     3500.0|               araba|\n",
      "|     2|   ceyda | 42|       K|      Memur|    Kayseri|     4200.0|            araba|ev|\n",
      "|     3|    Timur| 30|    null|   Müzüsyen|Istanbul   |     9000.0|     araba|ev|yazlık|\n",
      "|     4|   Burcu | 29|       K|Pazarlamacı|     Ankara|     4200.0|               araba|\n",
      "|     5|  Yasemin| 23|       K|Pazarlamaci|      Bursa|     4800.0|               araba|\n",
      "|     6|      Ali| 33|       E|      Memur|     Ankara|     4250.0|                  ev|\n",
      "|     7|    Dilek| 29|       K|Pazarlamaci|   Istanbul|     7300.0|        araba|yazlık|\n",
      "|     8|    Murat| 31|       E|   Müzüsyen|   Istanbul|    12000.0|araba|ev|dükkan|y...|\n",
      "|     9|    Ahmet| 33|       E|     Doktor|     Ankara|   180000.0|     araba|ev|yazlık|\n",
      "|    10| Muhittin| 46|       E|     Berber|   Istanbul|    12000.0|     araba|ev|dükkan|\n",
      "|    11| Hicaziye| 47|       K| Tuhafiyeci|       null|        4.8|              dükkan|\n",
      "|    12|    Harun| 43|       E|    Tornacı|    Ankara |     4200.0|               araba|\n",
      "|    13|    hakkı| 33|       E|      memur|     Çorum |     3750.0|                  ev|\n",
      "|    14|  Gülizar| 37|       K|     Doktor|      İzmir|    14250.0|               araba|\n",
      "|    15|   Şehmuz| 41|       E|   Müzisyen|     Ankara|     8700.0|               araba|\n",
      "+------+---------+---+--------+-----------+-----------+-----------+--------------------+\n",
      "\n"
     ]
    }
   ],
   "source": [
    "df.show()"
   ]
  },
  {
   "cell_type": "code",
   "execution_count": 32,
   "id": "65550e81",
   "metadata": {},
   "outputs": [],
   "source": [
    "from pyspark.sql.functions import *"
   ]
  },
  {
   "cell_type": "markdown",
   "id": "0d049b82",
   "metadata": {},
   "source": [
    "# Concat"
   ]
  },
  {
   "cell_type": "code",
   "execution_count": 33,
   "id": "498754dd",
   "metadata": {},
   "outputs": [
    {
     "name": "stdout",
     "output_type": "stream",
     "text": [
      "+-----------+-----------+------------------------+\n",
      "|meslek     |sehir      |meslek_sehir            |\n",
      "+-----------+-----------+------------------------+\n",
      "|Isci       |Ankara     |Isci - Ankara           |\n",
      "|Memur      |Kayseri    |Memur - Kayseri         |\n",
      "|Müzüsyen   |Istanbul   |Müzüsyen - Istanbul     |\n",
      "|Pazarlamacı|    Ankara |Pazarlamacı -     Ankara|\n",
      "|Pazarlamaci|Bursa      |Pazarlamaci - Bursa     |\n",
      "|Memur      |Ankara     |Memur - Ankara          |\n",
      "|Pazarlamaci|Istanbul   |Pazarlamaci - Istanbul  |\n",
      "|Müzüsyen   |Istanbul   |Müzüsyen - Istanbul     |\n",
      "|Doktor     |Ankara     |Doktor - Ankara         |\n",
      "|Berber     | Istanbul  |Berber -  Istanbul      |\n",
      "|Tuhafiyeci |null       |null                    |\n",
      "|Tornacı    | Ankara    |Tornacı -  Ankara       |\n",
      "|memur      |Çorum      |memur - Çorum           |\n",
      "|Doktor     |İzmir      |Doktor - İzmir          |\n",
      "|Müzisyen   | Ankara    |Müzisyen -  Ankara      |\n",
      "+-----------+-----------+------------------------+\n",
      "\n"
     ]
    }
   ],
   "source": [
    "df.select(\"meslek\",\"sehir\") \\\n",
    ".withColumn(\"meslek_sehir\", concat(col(\"meslek\"),lit(\" - \"),col(\"sehir\"))) \\\n",
    ".show(truncate=False)"
   ]
  },
  {
   "cell_type": "markdown",
   "id": "5f72a35c",
   "metadata": {},
   "source": [
    "# Number Format"
   ]
  },
  {
   "cell_type": "code",
   "execution_count": 34,
   "id": "ca6ed90c",
   "metadata": {},
   "outputs": [
    {
     "name": "stdout",
     "output_type": "stream",
     "text": [
      "+-----------+------------------+\n",
      "|aylik_gelir|aylik_gelir_format|\n",
      "+-----------+------------------+\n",
      "|     3500.0|          3,500.00|\n",
      "|     4200.0|          4,200.00|\n",
      "|     9000.0|          9,000.00|\n",
      "|     4200.0|          4,200.00|\n",
      "|     4800.0|          4,800.00|\n",
      "|     4250.0|          4,250.00|\n",
      "|     7300.0|          7,300.00|\n",
      "|    12000.0|         12,000.00|\n",
      "|   180000.0|        180,000.00|\n",
      "|    12000.0|         12,000.00|\n",
      "|        4.8|              4.80|\n",
      "|     4200.0|          4,200.00|\n",
      "|     3750.0|          3,750.00|\n",
      "|    14250.0|         14,250.00|\n",
      "|     8700.0|          8,700.00|\n",
      "+-----------+------------------+\n",
      "\n"
     ]
    }
   ],
   "source": [
    "df.select(\"aylik_gelir\") \\\n",
    ".withColumn(\"aylik_gelir_format\", format_number(col(\"aylik_gelir\"), 2)) \\\n",
    ".show()"
   ]
  },
  {
   "cell_type": "markdown",
   "id": "fa47ebf1",
   "metadata": {},
   "source": [
    "# lower, initcap, length"
   ]
  },
  {
   "cell_type": "code",
   "execution_count": 35,
   "id": "a9634a31",
   "metadata": {},
   "outputs": [
    {
     "name": "stdout",
     "output_type": "stream",
     "text": [
      "+-----------+---------+-----------+------------+------------+------------+\n",
      "|     meslek|     isim|      sehir|meslek_lower|isim_initcap|sehir_length|\n",
      "+-----------+---------+-----------+------------+------------+------------+\n",
      "|       Isci|    Cemal|     Ankara|        isci|       Cemal|           6|\n",
      "|      Memur|   ceyda |    Kayseri|       memur|      Ceyda |           7|\n",
      "|   Müzüsyen|    Timur|Istanbul   |    müzüsyen|       Timur|          11|\n",
      "|Pazarlamacı|   Burcu |     Ankara| pazarlamacı|      Burcu |          10|\n",
      "|Pazarlamaci|  Yasemin|      Bursa| pazarlamaci|     Yasemin|           5|\n",
      "|      Memur|      Ali|     Ankara|       memur|         Ali|           6|\n",
      "|Pazarlamaci|    Dilek|   Istanbul| pazarlamaci|       Dilek|           8|\n",
      "|   Müzüsyen|    Murat|   Istanbul|    müzüsyen|       Murat|           8|\n",
      "|     Doktor|    Ahmet|     Ankara|      doktor|       Ahmet|           6|\n",
      "|     Berber| Muhittin|   Istanbul|      berber|    Muhittin|           9|\n",
      "| Tuhafiyeci| Hicaziye|       null|  tuhafiyeci|    Hicaziye|        null|\n",
      "|    Tornacı|    Harun|    Ankara |     tornacı|       Harun|           8|\n",
      "|      memur|    hakkı|     Çorum |       memur|       Hakkı|           6|\n",
      "|     Doktor|  Gülizar|      İzmir|      doktor|     Gülizar|           5|\n",
      "|   Müzisyen|   Şehmuz|     Ankara|    müzisyen|      Şehmuz|           7|\n",
      "+-----------+---------+-----------+------------+------------+------------+\n",
      "\n"
     ]
    }
   ],
   "source": [
    "df.select(\"meslek\",\"isim\",\"sehir\") \\\n",
    ".withColumn(\"meslek_lower\", lower(col(\"meslek\"))) \\\n",
    ".withColumn(\"isim_initcap\", initcap(col(\"isim\"))) \\\n",
    ".withColumn(\"sehir_length\", length(col(\"sehir\"))) \\\n",
    ".show()"
   ]
  },
  {
   "cell_type": "markdown",
   "id": "4b9c11ea",
   "metadata": {},
   "source": [
    "# Trim"
   ]
  },
  {
   "cell_type": "code",
   "execution_count": 36,
   "id": "80285480",
   "metadata": {},
   "outputs": [
    {
     "name": "stdout",
     "output_type": "stream",
     "text": [
      "+-----------+-----------+-----------+----------+\n",
      "|      sehir|sehir_rtrim|sehir_ltrim|sehir_trim|\n",
      "+-----------+-----------+-----------+----------+\n",
      "|     Ankara|     Ankara|     Ankara|    Ankara|\n",
      "|    Kayseri|    Kayseri|    Kayseri|   Kayseri|\n",
      "|Istanbul   |   Istanbul|Istanbul   |  Istanbul|\n",
      "|     Ankara|     Ankara|     Ankara|    Ankara|\n",
      "|      Bursa|      Bursa|      Bursa|     Bursa|\n",
      "|     Ankara|     Ankara|     Ankara|    Ankara|\n",
      "|   Istanbul|   Istanbul|   Istanbul|  Istanbul|\n",
      "|   Istanbul|   Istanbul|   Istanbul|  Istanbul|\n",
      "|     Ankara|     Ankara|     Ankara|    Ankara|\n",
      "|   Istanbul|   Istanbul|   Istanbul|  Istanbul|\n",
      "|       null|       null|       null|      null|\n",
      "|    Ankara |     Ankara|    Ankara |    Ankara|\n",
      "|     Çorum |      Çorum|     Çorum |     Çorum|\n",
      "|      İzmir|      İzmir|      İzmir|     İzmir|\n",
      "|     Ankara|     Ankara|     Ankara|    Ankara|\n",
      "+-----------+-----------+-----------+----------+\n",
      "\n"
     ]
    }
   ],
   "source": [
    "df.select(\"sehir\") \\\n",
    ".withColumn(\"sehir_rtrim\", rtrim(col(\"sehir\"))) \\\n",
    ".withColumn(\"sehir_ltrim\", ltrim(col(\"sehir\"))) \\\n",
    ".withColumn(\"sehir_trim\", trim(col(\"sehir\"))) \\\n",
    ".show()"
   ]
  },
  {
   "cell_type": "markdown",
   "id": "1c909438",
   "metadata": {},
   "source": [
    "# replace, split"
   ]
  },
  {
   "cell_type": "code",
   "execution_count": 37,
   "id": "a9c61cb2",
   "metadata": {},
   "outputs": [
    {
     "name": "stdout",
     "output_type": "stream",
     "text": [
      "+-----------+----------------------+-----------+---------------------------+------------+\n",
      "|sehir      |mal_mulk              |sehir_ist  |mal_mulk_split             |mal_mulk_ilk|\n",
      "+-----------+----------------------+-----------+---------------------------+------------+\n",
      "|Ankara     |araba                 |Ankara     |[araba]                    |araba       |\n",
      "|Kayseri    |araba|ev              |Kayseri    |[araba, ev]                |araba       |\n",
      "|Istanbul   |araba|ev|yazlık       |İSTanbul   |[araba, ev, yazlık]        |araba       |\n",
      "|    Ankara |araba                 |    Ankara |[araba]                    |araba       |\n",
      "|Bursa      |araba                 |Bursa      |[araba]                    |araba       |\n",
      "|Ankara     |ev                    |Ankara     |[ev]                       |ev          |\n",
      "|Istanbul   |araba|yazlık          |İSTanbul   |[araba, yazlık]            |araba       |\n",
      "|Istanbul   |araba|ev|dükkan|yazlık|İSTanbul   |[araba, ev, dükkan, yazlık]|araba       |\n",
      "|Ankara     |araba|ev|yazlık       |Ankara     |[araba, ev, yazlık]        |araba       |\n",
      "| Istanbul  |araba|ev|dükkan       | İSTanbul  |[araba, ev, dükkan]        |araba       |\n",
      "|null       |dükkan                |null       |[dükkan]                   |dükkan      |\n",
      "| Ankara    |araba                 | Ankara    |[araba]                    |araba       |\n",
      "|Çorum      |ev                    |Çorum      |[ev]                       |ev          |\n",
      "|İzmir      |araba                 |İzmir      |[araba]                    |araba       |\n",
      "| Ankara    |araba                 | Ankara    |[araba]                    |araba       |\n",
      "+-----------+----------------------+-----------+---------------------------+------------+\n",
      "\n"
     ]
    }
   ],
   "source": [
    "df.select(\"sehir\",\"mal_mulk\") \\\n",
    ".withColumn(\"sehir_ist\", regexp_replace(col(\"sehir\"), \"Ist\", \"İST\")) \\\n",
    ".withColumn(\"mal_mulk_split\", split(col(\"mal_mulk\"), \"\\\\|\")) \\\n",
    ".withColumn(\"mal_mulk_ilk\", col(\"mal_mulk_split\")[0]) \\\n",
    ".show(truncate=False)"
   ]
  },
  {
   "cell_type": "markdown",
   "id": "54d7874b",
   "metadata": {},
   "source": [
    "# ManualSchema"
   ]
  },
  {
   "cell_type": "code",
   "execution_count": 38,
   "id": "c577cb2b",
   "metadata": {},
   "outputs": [],
   "source": [
    "data = spark.read \\\n",
    ".option(\"header\",\"True\") \\\n",
    ".option(\"inferSchema\",\"True\") \\\n",
    ".option(\"sep\",\";\") \\\n",
    ".csv(\"OnlineRetail.csv\")"
   ]
  },
  {
   "cell_type": "code",
   "execution_count": 39,
   "id": "5b03d99f",
   "metadata": {},
   "outputs": [
    {
     "name": "stdout",
     "output_type": "stream",
     "text": [
      "+---------+---------+--------------------+--------+---------------+---------+----------+--------------+\n",
      "|InvoiceNo|StockCode|         Description|Quantity|    InvoiceDate|UnitPrice|CustomerID|       Country|\n",
      "+---------+---------+--------------------+--------+---------------+---------+----------+--------------+\n",
      "|   536365|   85123A|WHITE HANGING HEA...|       6|1.12.2010 08:26|     2,55|     17850|United Kingdom|\n",
      "|   536365|    71053| WHITE METAL LANTERN|       6|1.12.2010 08:26|     3,39|     17850|United Kingdom|\n",
      "|   536365|   84406B|CREAM CUPID HEART...|       8|1.12.2010 08:26|     2,75|     17850|United Kingdom|\n",
      "|   536365|   84029G|KNITTED UNION FLA...|       6|1.12.2010 08:26|     3,39|     17850|United Kingdom|\n",
      "|   536365|   84029E|RED WOOLLY HOTTIE...|       6|1.12.2010 08:26|     3,39|     17850|United Kingdom|\n",
      "|   536365|    22752|SET 7 BABUSHKA NE...|       2|1.12.2010 08:26|     7,65|     17850|United Kingdom|\n",
      "|   536365|    21730|GLASS STAR FROSTE...|       6|1.12.2010 08:26|     4,25|     17850|United Kingdom|\n",
      "|   536366|    22633|HAND WARMER UNION...|       6|1.12.2010 08:28|     1,85|     17850|United Kingdom|\n",
      "|   536366|    22632|HAND WARMER RED P...|       6|1.12.2010 08:28|     1,85|     17850|United Kingdom|\n",
      "|   536367|    84879|ASSORTED COLOUR B...|      32|1.12.2010 08:34|     1,69|     13047|United Kingdom|\n",
      "|   536367|    22745|POPPY'S PLAYHOUSE...|       6|1.12.2010 08:34|      2,1|     13047|United Kingdom|\n",
      "|   536367|    22748|POPPY'S PLAYHOUSE...|       6|1.12.2010 08:34|      2,1|     13047|United Kingdom|\n",
      "|   536367|    22749|FELTCRAFT PRINCES...|       8|1.12.2010 08:34|     3,75|     13047|United Kingdom|\n",
      "|   536367|    22310|IVORY KNITTED MUG...|       6|1.12.2010 08:34|     1,65|     13047|United Kingdom|\n",
      "|   536367|    84969|BOX OF 6 ASSORTED...|       6|1.12.2010 08:34|     4,25|     13047|United Kingdom|\n",
      "|   536367|    22623|BOX OF VINTAGE JI...|       3|1.12.2010 08:34|     4,95|     13047|United Kingdom|\n",
      "|   536367|    22622|BOX OF VINTAGE AL...|       2|1.12.2010 08:34|     9,95|     13047|United Kingdom|\n",
      "|   536367|    21754|HOME BUILDING BLO...|       3|1.12.2010 08:34|     5,95|     13047|United Kingdom|\n",
      "|   536367|    21755|LOVE BUILDING BLO...|       3|1.12.2010 08:34|     5,95|     13047|United Kingdom|\n",
      "|   536367|    21777|RECIPE BOX WITH M...|       4|1.12.2010 08:34|     7,95|     13047|United Kingdom|\n",
      "+---------+---------+--------------------+--------+---------------+---------+----------+--------------+\n",
      "only showing top 20 rows\n",
      "\n"
     ]
    }
   ],
   "source": [
    "data.show()"
   ]
  },
  {
   "cell_type": "code",
   "execution_count": 40,
   "id": "5ae45a93",
   "metadata": {},
   "outputs": [
    {
     "name": "stdout",
     "output_type": "stream",
     "text": [
      "root\n",
      " |-- InvoiceNo: string (nullable = true)\n",
      " |-- StockCode: string (nullable = true)\n",
      " |-- Description: string (nullable = true)\n",
      " |-- Quantity: integer (nullable = true)\n",
      " |-- InvoiceDate: string (nullable = true)\n",
      " |-- UnitPrice: string (nullable = true)\n",
      " |-- CustomerID: integer (nullable = true)\n",
      " |-- Country: string (nullable = true)\n",
      "\n"
     ]
    }
   ],
   "source": [
    "data.printSchema()"
   ]
  },
  {
   "cell_type": "code",
   "execution_count": 41,
   "id": "d2dd06a4",
   "metadata": {},
   "outputs": [],
   "source": [
    "from pyspark.sql.types import StructType,StructField, StringType, IntegerType, FloatType"
   ]
  },
  {
   "cell_type": "code",
   "execution_count": 43,
   "id": "f4552748",
   "metadata": {},
   "outputs": [],
   "source": [
    "manual_schema = StructType(\n",
    "[\n",
    "    StructField(\"InvoiceNo\", StringType(), True),\n",
    "    StructField(\"StockCode\", StringType(), True),\n",
    "    StructField(\"Description\", StringType(), True),\n",
    "    StructField(\"Quantity\", IntegerType(), True),\n",
    "    StructField(\"InvoiceDate\", StringType(), True),\n",
    "    StructField(\"UnitPrice\", StringType(), True),\n",
    "    StructField(\"CustomerID\", IntegerType(), True),\n",
    "    StructField(\"Country\", StringType(), True)\n",
    "]\n",
    ")"
   ]
  },
  {
   "cell_type": "code",
   "execution_count": 44,
   "id": "95f75b09",
   "metadata": {},
   "outputs": [],
   "source": [
    "data2 = spark.read \\\n",
    ".option(\"header\",\"True\") \\\n",
    ".schema(manual_schema) \\\n",
    ".option(\"sep\",\";\") \\\n",
    ".csv(\"OnlineRetail.csv\")"
   ]
  },
  {
   "cell_type": "code",
   "execution_count": 53,
   "id": "c5bd4447",
   "metadata": {},
   "outputs": [
    {
     "name": "stderr",
     "output_type": "stream",
     "text": [
      "C:\\Users\\Aghayev\\anaconda3\\lib\\site-packages\\pyspark\\sql\\context.py:112: FutureWarning: Deprecated in 3.0.0. Use SparkSession.builder.getOrCreate() instead.\n",
      "  warnings.warn(\n"
     ]
    }
   ],
   "source": [
    "from pyspark import SQLContext\n",
    "sqc = SQLContext(spark)"
   ]
  },
  {
   "cell_type": "code",
   "execution_count": 54,
   "id": "da2688f6",
   "metadata": {},
   "outputs": [
    {
     "name": "stderr",
     "output_type": "stream",
     "text": [
      "C:\\Users\\Aghayev\\anaconda3\\lib\\site-packages\\pyspark\\sql\\dataframe.py:229: FutureWarning: Deprecated in 2.0, use createOrReplaceTempView instead.\n",
      "  warnings.warn(\"Deprecated in 2.0, use createOrReplaceTempView instead.\", FutureWarning)\n"
     ]
    }
   ],
   "source": [
    "df.registerTempTable(\"data2\")"
   ]
  },
  {
   "cell_type": "code",
   "execution_count": 56,
   "id": "50352aef",
   "metadata": {},
   "outputs": [
    {
     "name": "stdout",
     "output_type": "stream",
     "text": [
      "+------+---------+---+--------+-----------+-----------+-----------+--------------------+\n",
      "|sirano|     isim|yas|cinsiyet|     meslek|      sehir|aylik_gelir|            mal_mulk|\n",
      "+------+---------+---+--------+-----------+-----------+-----------+--------------------+\n",
      "|     1|    Cemal| 35|       E|       Isci|     Ankara|     3500.0|               araba|\n",
      "|     2|   ceyda | 42|       K|      Memur|    Kayseri|     4200.0|            araba|ev|\n",
      "|     3|    Timur| 30|    null|   Müzüsyen|Istanbul   |     9000.0|     araba|ev|yazlık|\n",
      "|     4|   Burcu | 29|       K|Pazarlamacı|     Ankara|     4200.0|               araba|\n",
      "|     5|  Yasemin| 23|       K|Pazarlamaci|      Bursa|     4800.0|               araba|\n",
      "|     6|      Ali| 33|       E|      Memur|     Ankara|     4250.0|                  ev|\n",
      "|     7|    Dilek| 29|       K|Pazarlamaci|   Istanbul|     7300.0|        araba|yazlık|\n",
      "|     8|    Murat| 31|       E|   Müzüsyen|   Istanbul|    12000.0|araba|ev|dükkan|y...|\n",
      "|     9|    Ahmet| 33|       E|     Doktor|     Ankara|   180000.0|     araba|ev|yazlık|\n",
      "|    10| Muhittin| 46|       E|     Berber|   Istanbul|    12000.0|     araba|ev|dükkan|\n",
      "|    11| Hicaziye| 47|       K| Tuhafiyeci|       null|        4.8|              dükkan|\n",
      "|    12|    Harun| 43|       E|    Tornacı|    Ankara |     4200.0|               araba|\n",
      "|    13|    hakkı| 33|       E|      memur|     Çorum |     3750.0|                  ev|\n",
      "|    14|  Gülizar| 37|       K|     Doktor|      İzmir|    14250.0|               araba|\n",
      "|    15|   Şehmuz| 41|       E|   Müzisyen|     Ankara|     8700.0|               araba|\n",
      "+------+---------+---+--------+-----------+-----------+-----------+--------------------+\n",
      "\n"
     ]
    }
   ],
   "source": [
    "sqc.sql(\"Select * from data2\").show()"
   ]
  },
  {
   "cell_type": "code",
   "execution_count": null,
   "id": "a1999b8a",
   "metadata": {},
   "outputs": [],
   "source": []
  },
  {
   "cell_type": "code",
   "execution_count": null,
   "id": "229c0f2a",
   "metadata": {},
   "outputs": [],
   "source": []
  }
 ],
 "metadata": {
  "kernelspec": {
   "display_name": "Python 3 (ipykernel)",
   "language": "python",
   "name": "python3"
  },
  "language_info": {
   "codemirror_mode": {
    "name": "ipython",
    "version": 3
   },
   "file_extension": ".py",
   "mimetype": "text/x-python",
   "name": "python",
   "nbconvert_exporter": "python",
   "pygments_lexer": "ipython3",
   "version": "3.9.7"
  }
 },
 "nbformat": 4,
 "nbformat_minor": 5
}
