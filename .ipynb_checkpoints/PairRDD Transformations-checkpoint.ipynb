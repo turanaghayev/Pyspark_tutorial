{
 "cells": [
  {
   "cell_type": "code",
   "execution_count": 15,
   "id": "315c46f4",
   "metadata": {},
   "outputs": [],
   "source": [
    "import findspark\n",
    "findspark.init()"
   ]
  },
  {
   "cell_type": "code",
   "execution_count": 33,
   "id": "2e74708f",
   "metadata": {},
   "outputs": [],
   "source": [
    "from pyspark.sql import SparkSession\n",
    "from pyspark.conf import SparkConf\n",
    "from pyspark import SparkContext"
   ]
  },
  {
   "cell_type": "code",
   "execution_count": 34,
   "id": "5f69c553",
   "metadata": {},
   "outputs": [],
   "source": [
    "pyspark = SparkSession.builder \\\n",
    ".master(\"local[4]\") \\\n",
    ".appName(\"Pair_RDD\") \\\n",
    ".getOrCreate()"
   ]
  },
  {
   "cell_type": "code",
   "execution_count": 39,
   "id": "a04d8285",
   "metadata": {},
   "outputs": [],
   "source": [
    "sc=pyspark.sparkContext"
   ]
  },
  {
   "cell_type": "code",
   "execution_count": 32,
   "id": "e1833560",
   "metadata": {},
   "outputs": [],
   "source": [
    "sc.stop()"
   ]
  },
  {
   "cell_type": "code",
   "execution_count": 40,
   "id": "d0718e45",
   "metadata": {},
   "outputs": [],
   "source": [
    "yaslar=[('Turan',22),('Aghayev',24),('Izbandut',55)]"
   ]
  },
  {
   "cell_type": "code",
   "execution_count": 41,
   "id": "86d1babb",
   "metadata": {},
   "outputs": [],
   "source": [
    "yas_rdd=sc.parallelize(yaslar)"
   ]
  },
  {
   "cell_type": "code",
   "execution_count": 42,
   "id": "1d3f607a",
   "metadata": {},
   "outputs": [
    {
     "data": {
      "text/plain": [
       "[('Turan', 22), ('Aghayev', 24), ('Izbandut', 55)]"
      ]
     },
     "execution_count": 42,
     "metadata": {},
     "output_type": "execute_result"
    }
   ],
   "source": [
    "yas_rdd.collect()"
   ]
  },
  {
   "cell_type": "code",
   "execution_count": 43,
   "id": "b94c1094",
   "metadata": {},
   "outputs": [
    {
     "data": {
      "text/plain": [
       "[('Turan', 22), ('Aghayev', 24)]"
      ]
     },
     "execution_count": 43,
     "metadata": {},
     "output_type": "execute_result"
    }
   ],
   "source": [
    "yas_rdd.filter(lambda key_value: key_value[1]<30).collect()"
   ]
  },
  {
   "cell_type": "code",
   "execution_count": 44,
   "id": "fa6758ae",
   "metadata": {},
   "outputs": [
    {
     "data": {
      "text/plain": [
       "[('Turan', 22)]"
      ]
     },
     "execution_count": 44,
     "metadata": {},
     "output_type": "execute_result"
    }
   ],
   "source": [
    "yas_rdd.filter(lambda key_value: key_value[0]== 'Turan').collect()"
   ]
  },
  {
   "cell_type": "code",
   "execution_count": 49,
   "id": "df07f4ee",
   "metadata": {},
   "outputs": [],
   "source": [
    "rdd=sc.parallelize([(1,2),(3,4),(3,6)])"
   ]
  },
  {
   "cell_type": "code",
   "execution_count": 50,
   "id": "4e1a1696",
   "metadata": {},
   "outputs": [
    {
     "data": {
      "text/plain": [
       "[(1, 2), (3, 10)]"
      ]
     },
     "execution_count": 50,
     "metadata": {},
     "output_type": "execute_result"
    }
   ],
   "source": [
    "rdd.reduceByKey(lambda x,y:x+y).collect()"
   ]
  },
  {
   "cell_type": "code",
   "execution_count": 53,
   "id": "1a34764b",
   "metadata": {},
   "outputs": [
    {
     "data": {
      "text/plain": [
       "[(1, <pyspark.resultiterable.ResultIterable at 0x1e50a885250>),\n",
       " (3, <pyspark.resultiterable.ResultIterable at 0x1e50a885c10>)]"
      ]
     },
     "execution_count": 53,
     "metadata": {},
     "output_type": "execute_result"
    }
   ],
   "source": [
    "rdd.groupByKey().collect()"
   ]
  },
  {
   "cell_type": "code",
   "execution_count": 55,
   "id": "9e16b156",
   "metadata": {},
   "outputs": [
    {
     "data": {
      "text/plain": [
       "[(1, 12), (3, 14), (3, 16)]"
      ]
     },
     "execution_count": 55,
     "metadata": {},
     "output_type": "execute_result"
    }
   ],
   "source": [
    "rdd.mapValues(lambda x:x+10).collect()"
   ]
  },
  {
   "cell_type": "code",
   "execution_count": 63,
   "id": "26d23dbd",
   "metadata": {},
   "outputs": [
    {
     "data": {
      "text/plain": [
       "[1, 3, 3]"
      ]
     },
     "execution_count": 63,
     "metadata": {},
     "output_type": "execute_result"
    }
   ],
   "source": [
    "rdd.keys().collect()"
   ]
  },
  {
   "cell_type": "code",
   "execution_count": 65,
   "id": "be73fc4d",
   "metadata": {},
   "outputs": [
    {
     "data": {
      "text/plain": [
       "[(1, 2), (3, 4), (3, 6)]"
      ]
     },
     "execution_count": 65,
     "metadata": {},
     "output_type": "execute_result"
    }
   ],
   "source": [
    "rdd.sortByKey().collect()"
   ]
  },
  {
   "cell_type": "code",
   "execution_count": 68,
   "id": "2a71a5d9",
   "metadata": {},
   "outputs": [],
   "source": [
    "rdd2=sc.parallelize([([3,7])])"
   ]
  },
  {
   "cell_type": "code",
   "execution_count": 70,
   "id": "7ac46185",
   "metadata": {},
   "outputs": [
    {
     "data": {
      "text/plain": [
       "[(1, 2)]"
      ]
     },
     "execution_count": 70,
     "metadata": {},
     "output_type": "execute_result"
    }
   ],
   "source": [
    "rdd.subtractByKey(rdd2).collect()"
   ]
  },
  {
   "cell_type": "code",
   "execution_count": null,
   "id": "233ebc11",
   "metadata": {},
   "outputs": [],
   "source": []
  },
  {
   "cell_type": "code",
   "execution_count": null,
   "id": "d286e6d5",
   "metadata": {},
   "outputs": [],
   "source": []
  },
  {
   "cell_type": "code",
   "execution_count": null,
   "id": "af01a5f4",
   "metadata": {},
   "outputs": [],
   "source": []
  },
  {
   "cell_type": "code",
   "execution_count": null,
   "id": "8f0b56a9",
   "metadata": {},
   "outputs": [],
   "source": []
  },
  {
   "cell_type": "code",
   "execution_count": null,
   "id": "f2d7565d",
   "metadata": {},
   "outputs": [],
   "source": []
  },
  {
   "cell_type": "code",
   "execution_count": null,
   "id": "148425e0",
   "metadata": {},
   "outputs": [],
   "source": []
  },
  {
   "cell_type": "code",
   "execution_count": null,
   "id": "e8501db0",
   "metadata": {},
   "outputs": [],
   "source": []
  }
 ],
 "metadata": {
  "kernelspec": {
   "display_name": "Python 3 (ipykernel)",
   "language": "python",
   "name": "python3"
  },
  "language_info": {
   "codemirror_mode": {
    "name": "ipython",
    "version": 3
   },
   "file_extension": ".py",
   "mimetype": "text/x-python",
   "name": "python",
   "nbconvert_exporter": "python",
   "pygments_lexer": "ipython3",
   "version": "3.9.7"
  }
 },
 "nbformat": 4,
 "nbformat_minor": 5
}
