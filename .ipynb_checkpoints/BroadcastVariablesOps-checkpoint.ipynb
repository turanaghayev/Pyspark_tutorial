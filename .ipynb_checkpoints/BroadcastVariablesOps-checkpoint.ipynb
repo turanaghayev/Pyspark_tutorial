{
 "cells": [
  {
   "cell_type": "code",
   "execution_count": 1,
   "id": "bbf37540",
   "metadata": {},
   "outputs": [],
   "source": [
    "import findspark\n",
    "findspark.init()\n",
    "from pyspark import SparkConf, SparkContext\n",
    "conf = SparkConf().setMaster(\"local[4]\").setAppName(\"BroadcastVariablesOps\")\n",
    "sc = SparkContext(conf=conf).getOrCreate()"
   ]
  },
  {
   "cell_type": "markdown",
   "id": "ea447568",
   "metadata": {},
   "source": [
    "# products.csv dosyasını okuyup (urün_id, ürün_adı) döndüren fonksiyon"
   ]
  },
  {
   "cell_type": "code",
   "execution_count": 2,
   "id": "f6ffc5ec",
   "metadata": {},
   "outputs": [],
   "source": [
    "def read_products():\n",
    "    products_text_wrapper = open(\"products.csv\", \"r\", encoding=\"utf-8\")\n",
    "    \n",
    "    # satır okuma\n",
    "    products = products_text_wrapper.readlines()\n",
    "    \n",
    "    product_id_name = {}\n",
    "    \n",
    "    for line in products:\n",
    "        \n",
    "        # başlıktan kurtul\n",
    "        if \"productCategoryId\" not in line:\n",
    "            product_id = int(line.split(\",\")[0])\n",
    "            product_name = line.split(\",\")[2]\n",
    "            \n",
    "            product_id_name.update({product_id:product_name})\n",
    "            \n",
    "    return product_id_name"
   ]
  },
  {
   "cell_type": "code",
   "execution_count": 3,
   "id": "101311b7",
   "metadata": {},
   "outputs": [],
   "source": [
    "products = read_products()"
   ]
  },
  {
   "cell_type": "code",
   "execution_count": 4,
   "id": "09275846",
   "metadata": {},
   "outputs": [],
   "source": [
    "broadcast_products = sc.broadcast(products)"
   ]
  },
  {
   "cell_type": "code",
   "execution_count": 6,
   "id": "00d414a0",
   "metadata": {},
   "outputs": [
    {
     "data": {
      "text/plain": [
       "\"Under Armour Men's Renegade D Mid Football Cl\""
      ]
     },
     "execution_count": 6,
     "metadata": {},
     "output_type": "execute_result"
    }
   ],
   "source": [
    "broadcast_products.value.get(13)"
   ]
  },
  {
   "cell_type": "markdown",
   "id": "f95f5f66",
   "metadata": {},
   "source": [
    "# order_items okuma ve rdd oluşturma"
   ]
  },
  {
   "cell_type": "code",
   "execution_count": 7,
   "id": "45619a4a",
   "metadata": {},
   "outputs": [],
   "source": [
    "order_items_rdd = sc.textFile(\"order_items.csv\") \\\n",
    ".filter(lambda x: \"orderItemOrderId\" not in x)"
   ]
  },
  {
   "cell_type": "code",
   "execution_count": 9,
   "id": "974c462f",
   "metadata": {},
   "outputs": [
    {
     "data": {
      "text/plain": [
       "['1,1,957,1,299.98,299.98',\n",
       " '2,2,1073,1,199.99,199.99',\n",
       " '3,2,502,5,250.0,50.0',\n",
       " '4,2,403,1,129.99,129.99',\n",
       " '5,4,897,2,49.98,24.99']"
      ]
     },
     "execution_count": 9,
     "metadata": {},
     "output_type": "execute_result"
    }
   ],
   "source": [
    "order_items_rdd.take(5)"
   ]
  },
  {
   "cell_type": "markdown",
   "id": "32bb2d7e",
   "metadata": {},
   "source": [
    "# order_items pair_rdd yapma"
   ]
  },
  {
   "cell_type": "code",
   "execution_count": 10,
   "id": "5e54be83",
   "metadata": {},
   "outputs": [],
   "source": [
    "def make_order_items_pair_rdd(line):\n",
    "    order_item_product_id = int(line.split(\",\")[2])\n",
    "    order_item_sub_total = float(line.split(\",\")[4])\n",
    "    \n",
    "    return (order_item_product_id, order_item_sub_total)\n"
   ]
  },
  {
   "cell_type": "code",
   "execution_count": 11,
   "id": "16ede8ac",
   "metadata": {},
   "outputs": [],
   "source": [
    "order_items_pair_rdd = order_items_rdd.map(make_order_items_pair_rdd)"
   ]
  },
  {
   "cell_type": "code",
   "execution_count": 13,
   "id": "5271b8c8",
   "metadata": {},
   "outputs": [
    {
     "data": {
      "text/plain": [
       "[(957, 299.98),\n",
       " (1073, 199.99),\n",
       " (502, 250.0),\n",
       " (403, 129.99),\n",
       " (897, 49.98),\n",
       " (365, 299.95),\n",
       " (502, 150.0),\n",
       " (1014, 199.92),\n",
       " (957, 299.98),\n",
       " (365, 299.95)]"
      ]
     },
     "execution_count": 13,
     "metadata": {},
     "output_type": "execute_result"
    }
   ],
   "source": [
    "order_items_pair_rdd.take(10)"
   ]
  },
  {
   "cell_type": "code",
   "execution_count": 14,
   "id": "110d0dbe",
   "metadata": {},
   "outputs": [
    {
     "data": {
      "text/plain": [
       "[(1004, 6929653.499999708),\n",
       " (365, 4421143.019999639),\n",
       " (957, 4118425.419999785),\n",
       " (191, 3667633.1999997487),\n",
       " (502, 3147800.0),\n",
       " (1073, 3099844.999999871),\n",
       " (403, 2891757.5399998166),\n",
       " (1014, 2888993.9399996493),\n",
       " (627, 1269082.649999932),\n",
       " (565, 67830.0)]"
      ]
     },
     "execution_count": 14,
     "metadata": {},
     "output_type": "execute_result"
    }
   ],
   "source": [
    "order_items_pair_rdd.reduceByKey(lambda x,y: (x+y)) \\\n",
    ".map(lambda x: (x[1], x[0])) \\\n",
    ".sortByKey(False) \\\n",
    ".map(lambda x: (x[1], x[0])) \\\n",
    ".take(10)"
   ]
  },
  {
   "cell_type": "code",
   "execution_count": 15,
   "id": "2ba3ce16",
   "metadata": {},
   "outputs": [],
   "source": [
    "sorted_orders = order_items_pair_rdd.reduceByKey(lambda x,y: (x+y)) \\\n",
    ".map(lambda x: (x[1], x[0])) \\\n",
    ".sortByKey(False) \\\n",
    ".map(lambda x: (x[1], x[0])) \\\n",
    "# .take(10)"
   ]
  },
  {
   "cell_type": "markdown",
   "id": "876b80a5",
   "metadata": {},
   "source": [
    "# order_items ile broadcast variable olan products birleştirme"
   ]
  },
  {
   "cell_type": "code",
   "execution_count": 16,
   "id": "bbf0e84a",
   "metadata": {},
   "outputs": [],
   "source": [
    "sorted_orders_with_product_name = sorted_orders \\\n",
    ".map(lambda x: (broadcast_products.value.get(x[0]), x[1]))"
   ]
  },
  {
   "cell_type": "code",
   "execution_count": 17,
   "id": "e07d00e7",
   "metadata": {},
   "outputs": [
    {
     "data": {
      "text/plain": [
       "[('Field & Stream Sportsman 16 Gun Fire Safe', 6929653.499999708),\n",
       " ('Perfect Fitness Perfect Rip Deck', 4421143.019999639),\n",
       " (\"Diamondback Women's Serene Classic Comfort Bi\", 4118425.419999785),\n",
       " (\"Nike Men's Free 5.0+ Running Shoe\", 3667633.1999997487),\n",
       " (\"Nike Men's Dri-FIT Victory Golf Polo\", 3147800.0),\n",
       " ('Pelican Sunstream 100 Kayak', 3099844.999999871),\n",
       " (\"Nike Men's CJ Elite 2 TD Football Cleat\", 2891757.5399998166),\n",
       " (\"O'Brien Men's Neoprene Life Vest\", 2888993.9399996493),\n",
       " (\"Under Armour Girls' Toddler Spine Surge Runni\", 1269082.649999932),\n",
       " ('adidas Youth Germany Black/Red Away Match Soc', 67830.0)]"
      ]
     },
     "execution_count": 17,
     "metadata": {},
     "output_type": "execute_result"
    }
   ],
   "source": [
    "sorted_orders_with_product_name.take(10)"
   ]
  },
  {
   "cell_type": "code",
   "execution_count": null,
   "id": "4ba451c9",
   "metadata": {},
   "outputs": [],
   "source": []
  },
  {
   "cell_type": "code",
   "execution_count": null,
   "id": "364c0776",
   "metadata": {},
   "outputs": [],
   "source": []
  }
 ],
 "metadata": {
  "kernelspec": {
   "display_name": "Python 3 (ipykernel)",
   "language": "python",
   "name": "python3"
  },
  "language_info": {
   "codemirror_mode": {
    "name": "ipython",
    "version": 3
   },
   "file_extension": ".py",
   "mimetype": "text/x-python",
   "name": "python",
   "nbconvert_exporter": "python",
   "pygments_lexer": "ipython3",
   "version": "3.9.7"
  }
 },
 "nbformat": 4,
 "nbformat_minor": 5
}
